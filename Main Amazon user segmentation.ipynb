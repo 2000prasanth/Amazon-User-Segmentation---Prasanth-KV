{
 "cells": [
  {
   "cell_type": "markdown",
   "metadata": {
    "id": "iIDXUkMElkDd"
   },
   "source": [
    "# Data Preprocessing"
   ]
  },
  {
   "cell_type": "markdown",
   "metadata": {
    "id": "Hj40LjUilpix"
   },
   "source": [
    "## Importing the libraries"
   ]
  },
  {
   "cell_type": "code",
   "execution_count": 13,
   "metadata": {},
   "outputs": [],
   "source": [
    "import pandas as pd\n",
    "import numpy as np\n",
    "import matplotlib.pyplot as plt"
   ]
  },
  {
   "cell_type": "markdown",
   "metadata": {
    "id": "zApSnwUkl9eD"
   },
   "source": [
    "## Importing Dataset"
   ]
  },
  {
   "cell_type": "code",
   "execution_count": 14,
   "metadata": {},
   "outputs": [],
   "source": [
    "df=pd.read_csv(r'C:\\Users\\prasa\\Desktop\\DSA course\\Amazon user segmentation\\Amazon-user-segmentation-main\\Amazon.com cluster model.csv')"
   ]
  },
  {
   "cell_type": "code",
   "execution_count": 15,
   "metadata": {},
   "outputs": [
    {
     "data": {
      "text/html": [
       "<div>\n",
       "<style scoped>\n",
       "    .dataframe tbody tr th:only-of-type {\n",
       "        vertical-align: middle;\n",
       "    }\n",
       "\n",
       "    .dataframe tbody tr th {\n",
       "        vertical-align: top;\n",
       "    }\n",
       "\n",
       "    .dataframe thead th {\n",
       "        text-align: right;\n",
       "    }\n",
       "</style>\n",
       "<table border=\"1\" class=\"dataframe\">\n",
       "  <thead>\n",
       "    <tr style=\"text-align: right;\">\n",
       "      <th></th>\n",
       "      <th>Cus_ID</th>\n",
       "      <th>Sex</th>\n",
       "      <th>Age</th>\n",
       "      <th>Income</th>\n",
       "      <th>Rating</th>\n",
       "    </tr>\n",
       "  </thead>\n",
       "  <tbody>\n",
       "    <tr>\n",
       "      <th>0</th>\n",
       "      <td>301219</td>\n",
       "      <td>M</td>\n",
       "      <td>23</td>\n",
       "      <td>53667</td>\n",
       "      <td>150</td>\n",
       "    </tr>\n",
       "    <tr>\n",
       "      <th>1</th>\n",
       "      <td>301220</td>\n",
       "      <td>F</td>\n",
       "      <td>32</td>\n",
       "      <td>50420</td>\n",
       "      <td>106</td>\n",
       "    </tr>\n",
       "    <tr>\n",
       "      <th>2</th>\n",
       "      <td>301221</td>\n",
       "      <td>M</td>\n",
       "      <td>23</td>\n",
       "      <td>62896</td>\n",
       "      <td>10</td>\n",
       "    </tr>\n",
       "    <tr>\n",
       "      <th>3</th>\n",
       "      <td>301222</td>\n",
       "      <td>M</td>\n",
       "      <td>32</td>\n",
       "      <td>55306</td>\n",
       "      <td>22</td>\n",
       "    </tr>\n",
       "    <tr>\n",
       "      <th>4</th>\n",
       "      <td>301223</td>\n",
       "      <td>F</td>\n",
       "      <td>34</td>\n",
       "      <td>20634</td>\n",
       "      <td>117</td>\n",
       "    </tr>\n",
       "  </tbody>\n",
       "</table>\n",
       "</div>"
      ],
      "text/plain": [
       "   Cus_ID Sex  Age  Income  Rating\n",
       "0  301219   M   23   53667     150\n",
       "1  301220   F   32   50420     106\n",
       "2  301221   M   23   62896      10\n",
       "3  301222   M   32   55306      22\n",
       "4  301223   F   34   20634     117"
      ]
     },
     "execution_count": 15,
     "metadata": {},
     "output_type": "execute_result"
    }
   ],
   "source": [
    "df.head()"
   ]
  },
  {
   "cell_type": "code",
   "execution_count": 16,
   "metadata": {},
   "outputs": [
    {
     "data": {
      "text/plain": [
       "(202, 5)"
      ]
     },
     "execution_count": 16,
     "metadata": {},
     "output_type": "execute_result"
    }
   ],
   "source": [
    "df.shape"
   ]
  },
  {
   "cell_type": "code",
   "execution_count": 17,
   "metadata": {},
   "outputs": [
    {
     "data": {
      "text/plain": [
       "Cus_ID     int64\n",
       "Sex       object\n",
       "Age        int64\n",
       "Income     int64\n",
       "Rating     int64\n",
       "dtype: object"
      ]
     },
     "execution_count": 17,
     "metadata": {},
     "output_type": "execute_result"
    }
   ],
   "source": [
    "df.dtypes"
   ]
  },
  {
   "cell_type": "code",
   "execution_count": 18,
   "metadata": {},
   "outputs": [
    {
     "data": {
      "text/html": [
       "<div>\n",
       "<style scoped>\n",
       "    .dataframe tbody tr th:only-of-type {\n",
       "        vertical-align: middle;\n",
       "    }\n",
       "\n",
       "    .dataframe tbody tr th {\n",
       "        vertical-align: top;\n",
       "    }\n",
       "\n",
       "    .dataframe thead th {\n",
       "        text-align: right;\n",
       "    }\n",
       "</style>\n",
       "<table border=\"1\" class=\"dataframe\">\n",
       "  <thead>\n",
       "    <tr style=\"text-align: right;\">\n",
       "      <th></th>\n",
       "      <th>Cus_ID</th>\n",
       "      <th>Age</th>\n",
       "      <th>Income</th>\n",
       "      <th>Rating</th>\n",
       "    </tr>\n",
       "  </thead>\n",
       "  <tbody>\n",
       "    <tr>\n",
       "      <th>count</th>\n",
       "      <td>202.000000</td>\n",
       "      <td>202.000000</td>\n",
       "      <td>202.000000</td>\n",
       "      <td>202.000000</td>\n",
       "    </tr>\n",
       "    <tr>\n",
       "      <th>mean</th>\n",
       "      <td>301319.500000</td>\n",
       "      <td>31.663366</td>\n",
       "      <td>46520.727723</td>\n",
       "      <td>79.668317</td>\n",
       "    </tr>\n",
       "    <tr>\n",
       "      <th>std</th>\n",
       "      <td>58.456537</td>\n",
       "      <td>8.898295</td>\n",
       "      <td>15035.827667</td>\n",
       "      <td>42.787150</td>\n",
       "    </tr>\n",
       "    <tr>\n",
       "      <th>min</th>\n",
       "      <td>301219.000000</td>\n",
       "      <td>18.000000</td>\n",
       "      <td>20159.000000</td>\n",
       "      <td>3.000000</td>\n",
       "    </tr>\n",
       "    <tr>\n",
       "      <th>25%</th>\n",
       "      <td>301269.250000</td>\n",
       "      <td>23.250000</td>\n",
       "      <td>33794.250000</td>\n",
       "      <td>43.250000</td>\n",
       "    </tr>\n",
       "    <tr>\n",
       "      <th>50%</th>\n",
       "      <td>301319.500000</td>\n",
       "      <td>29.000000</td>\n",
       "      <td>47619.500000</td>\n",
       "      <td>79.000000</td>\n",
       "    </tr>\n",
       "    <tr>\n",
       "      <th>75%</th>\n",
       "      <td>301369.750000</td>\n",
       "      <td>39.000000</td>\n",
       "      <td>59778.750000</td>\n",
       "      <td>117.000000</td>\n",
       "    </tr>\n",
       "    <tr>\n",
       "      <th>max</th>\n",
       "      <td>301420.000000</td>\n",
       "      <td>56.000000</td>\n",
       "      <td>69893.000000</td>\n",
       "      <td>150.000000</td>\n",
       "    </tr>\n",
       "  </tbody>\n",
       "</table>\n",
       "</div>"
      ],
      "text/plain": [
       "              Cus_ID         Age        Income      Rating\n",
       "count     202.000000  202.000000    202.000000  202.000000\n",
       "mean   301319.500000   31.663366  46520.727723   79.668317\n",
       "std        58.456537    8.898295  15035.827667   42.787150\n",
       "min    301219.000000   18.000000  20159.000000    3.000000\n",
       "25%    301269.250000   23.250000  33794.250000   43.250000\n",
       "50%    301319.500000   29.000000  47619.500000   79.000000\n",
       "75%    301369.750000   39.000000  59778.750000  117.000000\n",
       "max    301420.000000   56.000000  69893.000000  150.000000"
      ]
     },
     "execution_count": 18,
     "metadata": {},
     "output_type": "execute_result"
    }
   ],
   "source": [
    "df.describe()"
   ]
  },
  {
   "cell_type": "markdown",
   "metadata": {
    "id": "XaG0s7WjmgPU"
   },
   "source": [
    "\n",
    "\n",
    "\n",
    "## Handling Missing Data"
   ]
  },
  {
   "cell_type": "code",
   "execution_count": 19,
   "metadata": {},
   "outputs": [
    {
     "data": {
      "text/plain": [
       "Cus_ID    0\n",
       "Sex       0\n",
       "Age       0\n",
       "Income    0\n",
       "Rating    0\n",
       "dtype: int64"
      ]
     },
     "execution_count": 19,
     "metadata": {},
     "output_type": "execute_result"
    }
   ],
   "source": [
    "df.isnull().sum()"
   ]
  },
  {
   "cell_type": "markdown",
   "metadata": {
    "id": "o0syRbsSmkoe"
   },
   "source": [
    "## Encoding Categorical Data"
   ]
  },
  {
   "cell_type": "code",
   "execution_count": 20,
   "metadata": {},
   "outputs": [
    {
     "data": {
      "text/html": [
       "<div>\n",
       "<style scoped>\n",
       "    .dataframe tbody tr th:only-of-type {\n",
       "        vertical-align: middle;\n",
       "    }\n",
       "\n",
       "    .dataframe tbody tr th {\n",
       "        vertical-align: top;\n",
       "    }\n",
       "\n",
       "    .dataframe thead th {\n",
       "        text-align: right;\n",
       "    }\n",
       "</style>\n",
       "<table border=\"1\" class=\"dataframe\">\n",
       "  <thead>\n",
       "    <tr style=\"text-align: right;\">\n",
       "      <th></th>\n",
       "      <th>Cus_ID</th>\n",
       "      <th>Sex</th>\n",
       "      <th>Age</th>\n",
       "      <th>Income</th>\n",
       "      <th>Rating</th>\n",
       "    </tr>\n",
       "  </thead>\n",
       "  <tbody>\n",
       "    <tr>\n",
       "      <th>0</th>\n",
       "      <td>301219</td>\n",
       "      <td>M</td>\n",
       "      <td>23</td>\n",
       "      <td>53667</td>\n",
       "      <td>150</td>\n",
       "    </tr>\n",
       "    <tr>\n",
       "      <th>1</th>\n",
       "      <td>301220</td>\n",
       "      <td>F</td>\n",
       "      <td>32</td>\n",
       "      <td>50420</td>\n",
       "      <td>106</td>\n",
       "    </tr>\n",
       "    <tr>\n",
       "      <th>2</th>\n",
       "      <td>301221</td>\n",
       "      <td>M</td>\n",
       "      <td>23</td>\n",
       "      <td>62896</td>\n",
       "      <td>10</td>\n",
       "    </tr>\n",
       "    <tr>\n",
       "      <th>3</th>\n",
       "      <td>301222</td>\n",
       "      <td>M</td>\n",
       "      <td>32</td>\n",
       "      <td>55306</td>\n",
       "      <td>22</td>\n",
       "    </tr>\n",
       "    <tr>\n",
       "      <th>4</th>\n",
       "      <td>301223</td>\n",
       "      <td>F</td>\n",
       "      <td>34</td>\n",
       "      <td>20634</td>\n",
       "      <td>117</td>\n",
       "    </tr>\n",
       "    <tr>\n",
       "      <th>...</th>\n",
       "      <td>...</td>\n",
       "      <td>...</td>\n",
       "      <td>...</td>\n",
       "      <td>...</td>\n",
       "      <td>...</td>\n",
       "    </tr>\n",
       "    <tr>\n",
       "      <th>197</th>\n",
       "      <td>301416</td>\n",
       "      <td>M</td>\n",
       "      <td>24</td>\n",
       "      <td>30710</td>\n",
       "      <td>115</td>\n",
       "    </tr>\n",
       "    <tr>\n",
       "      <th>198</th>\n",
       "      <td>301417</td>\n",
       "      <td>F</td>\n",
       "      <td>25</td>\n",
       "      <td>55340</td>\n",
       "      <td>66</td>\n",
       "    </tr>\n",
       "    <tr>\n",
       "      <th>199</th>\n",
       "      <td>301418</td>\n",
       "      <td>M</td>\n",
       "      <td>26</td>\n",
       "      <td>41269</td>\n",
       "      <td>142</td>\n",
       "    </tr>\n",
       "    <tr>\n",
       "      <th>200</th>\n",
       "      <td>301419</td>\n",
       "      <td>F</td>\n",
       "      <td>28</td>\n",
       "      <td>64338</td>\n",
       "      <td>82</td>\n",
       "    </tr>\n",
       "    <tr>\n",
       "      <th>201</th>\n",
       "      <td>301420</td>\n",
       "      <td>M</td>\n",
       "      <td>28</td>\n",
       "      <td>21533</td>\n",
       "      <td>144</td>\n",
       "    </tr>\n",
       "  </tbody>\n",
       "</table>\n",
       "<p>202 rows × 5 columns</p>\n",
       "</div>"
      ],
      "text/plain": [
       "     Cus_ID Sex  Age  Income  Rating\n",
       "0    301219   M   23   53667     150\n",
       "1    301220   F   32   50420     106\n",
       "2    301221   M   23   62896      10\n",
       "3    301222   M   32   55306      22\n",
       "4    301223   F   34   20634     117\n",
       "..      ...  ..  ...     ...     ...\n",
       "197  301416   M   24   30710     115\n",
       "198  301417   F   25   55340      66\n",
       "199  301418   M   26   41269     142\n",
       "200  301419   F   28   64338      82\n",
       "201  301420   M   28   21533     144\n",
       "\n",
       "[202 rows x 5 columns]"
      ]
     },
     "execution_count": 20,
     "metadata": {},
     "output_type": "execute_result"
    }
   ],
   "source": [
    "df"
   ]
  },
  {
   "cell_type": "code",
   "execution_count": 23,
   "metadata": {},
   "outputs": [],
   "source": [
    "X=df.iloc[:, 3:5].values\n"
   ]
  },
  {
   "cell_type": "code",
   "execution_count": 25,
   "metadata": {},
   "outputs": [
    {
     "data": {
      "text/plain": [
       "(202, 2)"
      ]
     },
     "execution_count": 25,
     "metadata": {},
     "output_type": "execute_result"
    }
   ],
   "source": [
    "X.shape"
   ]
  },
  {
   "cell_type": "markdown",
   "metadata": {},
   "source": [
    "# Elbow method\n"
   ]
  },
  {
   "cell_type": "code",
   "execution_count": 30,
   "metadata": {},
   "outputs": [
    {
     "name": "stderr",
     "output_type": "stream",
     "text": [
      "C:\\Users\\prasa\\anaconda3\\lib\\site-packages\\sklearn\\cluster\\_kmeans.py:881: UserWarning: KMeans is known to have a memory leak on Windows with MKL, when there are less chunks than available threads. You can avoid it by setting the environment variable OMP_NUM_THREADS=1.\n",
      "  warnings.warn(\n"
     ]
    },
    {
     "data": {
      "image/png": "[encoded data removed]",
      "text/plain": [
       "<Figure size 432x288 with 1 Axes>"
      ]
     },
     "metadata": {
      "needs_background": "light"
     },
     "output_type": "display_data"
    }
   ],
   "source": [
    "from sklearn.cluster import KMeans\n",
    "wcss=[]\n",
    "\n",
    "for i in range(1,11):\n",
    "    kmeans=KMeans(n_clusters=i, init='k-means++',  random_state=21)\n",
    "    kmeans.fit(X)\n",
    "    wcss.append(kmeans.inertia_)\n",
    "    \n",
    "plt.plot(range(1,11),wcss)\n",
    "plt.title('elbow method')\n",
    "plt.xlabel('No of clusters')\n",
    "plt.ylabel('WCSS')\n",
    "plt.show()"
   ]
  },
  {
   "cell_type": "code",
   "execution_count": 31,
   "metadata": {},
   "outputs": [],
   "source": [
    "kmeans=KMeans(n_clusters=4, init='k-means++',  random_state=21)\n",
    "y_means=kmeans.fit_predict(X)"
   ]
  },
  {
   "cell_type": "code",
   "execution_count": 32,
   "metadata": {},
   "outputs": [
    {
     "data": {
      "text/plain": [
       "array([2, 2, 1, 2, 0, 2, 3, 1, 0, 1, 3, 2, 0, 2, 1, 1, 1, 1, 0, 1, 0, 0,\n",
       "       3, 0, 3, 1, 2, 2, 1, 3, 1, 0, 0, 1, 1, 0, 0, 2, 0, 1, 1, 2, 3, 2,\n",
       "       3, 3, 2, 2, 0, 0, 0, 2, 0, 2, 1, 0, 0, 0, 1, 1, 2, 2, 3, 0, 1, 3,\n",
       "       1, 0, 1, 3, 2, 3, 1, 2, 0, 0, 3, 2, 0, 2, 3, 1, 3, 0, 3, 2, 0, 1,\n",
       "       3, 3, 3, 1, 1, 0, 1, 0, 1, 2, 3, 3, 3, 2, 1, 3, 3, 1, 2, 1, 2, 3,\n",
       "       0, 2, 3, 1, 1, 1, 3, 3, 2, 1, 2, 1, 2, 3, 2, 2, 2, 2, 3, 1, 3, 3,\n",
       "       1, 0, 1, 3, 2, 2, 0, 1, 2, 2, 0, 3, 0, 2, 2, 2, 2, 0, 1, 3, 0, 1,\n",
       "       3, 3, 2, 0, 2, 2, 3, 0, 0, 2, 1, 0, 1, 3, 2, 2, 3, 0, 1, 3, 2, 1,\n",
       "       2, 0, 2, 1, 2, 3, 3, 0, 3, 3, 0, 2, 1, 3, 0, 1, 0, 1, 1, 0, 1, 0,\n",
       "       2, 3, 1, 0])"
      ]
     },
     "execution_count": 32,
     "metadata": {},
     "output_type": "execute_result"
    }
   ],
   "source": [
    "y_means"
   ]
  },
  {
   "cell_type": "markdown",
   "metadata": {},
   "source": [
    "# Plot"
   ]
  },
  {
   "cell_type": "code",
   "execution_count": 36,
   "metadata": {},
   "outputs": [
    {
     "data": {
      "image/png": "[encoded data removed]",
      "text/plain": [
       "<Figure size 432x288 with 1 Axes>"
      ]
     },
     "metadata": {
      "needs_background": "light"
     },
     "output_type": "display_data"
    }
   ],
   "source": [
    "plt.scatter(X[y_means==0,0],X[y_means==0,1], s=100, c='red', label='Cluster1')\n",
    "plt.scatter(X[y_means==1,0],X[y_means==1,1], s=100, c='blue', label='Cluster2')\n",
    "plt.scatter(X[y_means==2,0],X[y_means==2,1], s=100, c='yellow', label='Cluster3')\n",
    "plt.scatter(X[y_means==3,0],X[y_means==3,1], s=100, c='green', label='Cluster4')\n",
    "#plt.scatter(kmeans.cluster_centers_[:0], kmeans.cluster_centers_[:1], s=100, c='black', label='Centroids')\n",
    "plt.scatter(kmeans.cluster_centers_[:, 0], kmeans.cluster_centers_[:, 1], s=100, c='black', label='Centroids')\n",
    "\n",
    "plt.title('Cluster of amazon users')\n",
    "plt.xlabel('Annual income')\n",
    "plt.ylabel('Purchase rating')\n",
    "plt.legend()\n",
    "plt.show()"
   ]
  },
  {
   "cell_type": "markdown",
   "metadata": {},
   "source": [
    "for cluster 1 (Red): Mostly equal distributin & around 40% have very high tendency to buy\n",
    "\n",
    "for cluster 2(green) : Medium to high tendency to buy(~70%), people who have low tendency to buy are very less\n",
    "\n",
    "for  cluster 3(yellow): Mostly medium level of tendency to buy since number of points in higher and lower brackets are less\n",
    "\n",
    "for cluster 4(blue) : Almost equal distributtion but to some extent around 30% of the customers \n",
    "prefer not to buy. maybe due to the delay of arrival of the product etc."
   ]
  },
  {
   "cell_type": "markdown",
   "metadata": {},
   "source": []
  },
  {
   "cell_type": "markdown",
   "metadata": {},
   "source": [
    "# 2) Based on AGE and rating"
   ]
  },
  {
   "cell_type": "code",
   "execution_count": 40,
   "metadata": {},
   "outputs": [
    {
     "data": {
      "text/plain": [
       "Index(['Cus_ID', 'Sex', 'Age', 'Income', 'Rating'], dtype='object')"
      ]
     },
     "execution_count": 40,
     "metadata": {},
     "output_type": "execute_result"
    }
   ],
   "source": [
    "df.columns"
   ]
  },
  {
   "cell_type": "code",
   "execution_count": 50,
   "metadata": {},
   "outputs": [],
   "source": [
    "gender_mapping = {'M': 1, 'F': 0}\n",
    "\n",
    "# Apply the mapping to the 'gender' column\n",
    "df['Sex'] = df['Sex'].map(gender_mapping)"
   ]
  },
  {
   "cell_type": "code",
   "execution_count": 52,
   "metadata": {},
   "outputs": [
    {
     "data": {
      "text/html": [
       "<div>\n",
       "<style scoped>\n",
       "    .dataframe tbody tr th:only-of-type {\n",
       "        vertical-align: middle;\n",
       "    }\n",
       "\n",
       "    .dataframe tbody tr th {\n",
       "        vertical-align: top;\n",
       "    }\n",
       "\n",
       "    .dataframe thead th {\n",
       "        text-align: right;\n",
       "    }\n",
       "</style>\n",
       "<table border=\"1\" class=\"dataframe\">\n",
       "  <thead>\n",
       "    <tr style=\"text-align: right;\">\n",
       "      <th></th>\n",
       "      <th>Cus_ID</th>\n",
       "      <th>Sex</th>\n",
       "      <th>Age</th>\n",
       "      <th>Income</th>\n",
       "      <th>Rating</th>\n",
       "    </tr>\n",
       "  </thead>\n",
       "  <tbody>\n",
       "    <tr>\n",
       "      <th>0</th>\n",
       "      <td>301219</td>\n",
       "      <td>1</td>\n",
       "      <td>23</td>\n",
       "      <td>53667</td>\n",
       "      <td>150</td>\n",
       "    </tr>\n",
       "    <tr>\n",
       "      <th>1</th>\n",
       "      <td>301220</td>\n",
       "      <td>0</td>\n",
       "      <td>32</td>\n",
       "      <td>50420</td>\n",
       "      <td>106</td>\n",
       "    </tr>\n",
       "    <tr>\n",
       "      <th>2</th>\n",
       "      <td>301221</td>\n",
       "      <td>1</td>\n",
       "      <td>23</td>\n",
       "      <td>62896</td>\n",
       "      <td>10</td>\n",
       "    </tr>\n",
       "    <tr>\n",
       "      <th>3</th>\n",
       "      <td>301222</td>\n",
       "      <td>1</td>\n",
       "      <td>32</td>\n",
       "      <td>55306</td>\n",
       "      <td>22</td>\n",
       "    </tr>\n",
       "    <tr>\n",
       "      <th>4</th>\n",
       "      <td>301223</td>\n",
       "      <td>0</td>\n",
       "      <td>34</td>\n",
       "      <td>20634</td>\n",
       "      <td>117</td>\n",
       "    </tr>\n",
       "    <tr>\n",
       "      <th>...</th>\n",
       "      <td>...</td>\n",
       "      <td>...</td>\n",
       "      <td>...</td>\n",
       "      <td>...</td>\n",
       "      <td>...</td>\n",
       "    </tr>\n",
       "    <tr>\n",
       "      <th>197</th>\n",
       "      <td>301416</td>\n",
       "      <td>1</td>\n",
       "      <td>24</td>\n",
       "      <td>30710</td>\n",
       "      <td>115</td>\n",
       "    </tr>\n",
       "    <tr>\n",
       "      <th>198</th>\n",
       "      <td>301417</td>\n",
       "      <td>0</td>\n",
       "      <td>25</td>\n",
       "      <td>55340</td>\n",
       "      <td>66</td>\n",
       "    </tr>\n",
       "    <tr>\n",
       "      <th>199</th>\n",
       "      <td>301418</td>\n",
       "      <td>1</td>\n",
       "      <td>26</td>\n",
       "      <td>41269</td>\n",
       "      <td>142</td>\n",
       "    </tr>\n",
       "    <tr>\n",
       "      <th>200</th>\n",
       "      <td>301419</td>\n",
       "      <td>0</td>\n",
       "      <td>28</td>\n",
       "      <td>64338</td>\n",
       "      <td>82</td>\n",
       "    </tr>\n",
       "    <tr>\n",
       "      <th>201</th>\n",
       "      <td>301420</td>\n",
       "      <td>1</td>\n",
       "      <td>28</td>\n",
       "      <td>21533</td>\n",
       "      <td>144</td>\n",
       "    </tr>\n",
       "  </tbody>\n",
       "</table>\n",
       "<p>202 rows × 5 columns</p>\n",
       "</div>"
      ],
      "text/plain": [
       "     Cus_ID  Sex  Age  Income  Rating\n",
       "0    301219    1   23   53667     150\n",
       "1    301220    0   32   50420     106\n",
       "2    301221    1   23   62896      10\n",
       "3    301222    1   32   55306      22\n",
       "4    301223    0   34   20634     117\n",
       "..      ...  ...  ...     ...     ...\n",
       "197  301416    1   24   30710     115\n",
       "198  301417    0   25   55340      66\n",
       "199  301418    1   26   41269     142\n",
       "200  301419    0   28   64338      82\n",
       "201  301420    1   28   21533     144\n",
       "\n",
       "[202 rows x 5 columns]"
      ]
     },
     "execution_count": 52,
     "metadata": {},
     "output_type": "execute_result"
    }
   ],
   "source": [
    "df"
   ]
  },
  {
   "cell_type": "code",
   "execution_count": 106,
   "metadata": {},
   "outputs": [],
   "source": [
    "X1 = df.iloc[:, [2, 4]].values"
   ]
  },
  {
   "cell_type": "code",
   "execution_count": 107,
   "metadata": {},
   "outputs": [
    {
     "data": {
      "text/plain": [
       "array([[ 23, 150],\n",
       "       [ 32, 106],\n",
       "       [ 23,  10],\n",
       "       [ 32,  22],\n",
       "       [ 34, 117],\n",
       "       [ 43,   6],\n",
       "       [ 43, 123],\n",
       "       [ 22, 133],\n",
       "       [ 34, 108],\n",
       "       [ 23,  62],\n",
       "       [ 29, 125],\n",
       "       [ 28,  73],\n",
       "       [ 27,  44],\n",
       "       [ 25,  66],\n",
       "       [ 26,  30],\n",
       "       [ 38,  38],\n",
       "       [ 23, 128],\n",
       "       [ 21, 130],\n",
       "       [ 21,  59],\n",
       "       [ 22,  42],\n",
       "       [ 20,   3],\n",
       "       [ 31,  30],\n",
       "       [ 32,  57],\n",
       "       [ 33,  97],\n",
       "       [ 30,  75],\n",
       "       [ 39,  16],\n",
       "       [ 37,   9],\n",
       "       [ 35, 131],\n",
       "       [ 30, 149],\n",
       "       [ 31,  48],\n",
       "       [ 29,  76],\n",
       "       [ 28, 105],\n",
       "       [ 35,  76],\n",
       "       [ 22,  54],\n",
       "       [ 20, 145],\n",
       "       [ 23, 144],\n",
       "       [ 21, 122],\n",
       "       [ 27,  71],\n",
       "       [ 28, 121],\n",
       "       [ 23, 132],\n",
       "       [ 29,  14],\n",
       "       [ 36,  34],\n",
       "       [ 39, 145],\n",
       "       [ 31,  54],\n",
       "       [ 37,  84],\n",
       "       [ 39,  61],\n",
       "       [ 20,  70],\n",
       "       [ 29, 148],\n",
       "       [ 35,  56],\n",
       "       [ 23,  84],\n",
       "       [ 34,  48],\n",
       "       [ 34,   9],\n",
       "       [ 23,  16],\n",
       "       [ 34,  55],\n",
       "       [ 32,  73],\n",
       "       [ 23, 120],\n",
       "       [ 19,  59],\n",
       "       [ 19,  41],\n",
       "       [ 23,   9],\n",
       "       [ 24, 121],\n",
       "       [ 25, 101],\n",
       "       [ 26, 128],\n",
       "       [ 27,   4],\n",
       "       [ 28,  27],\n",
       "       [ 29,  12],\n",
       "       [ 20, 130],\n",
       "       [ 39, 135],\n",
       "       [ 38,  97],\n",
       "       [ 34,  69],\n",
       "       [ 35,  47],\n",
       "       [ 36,  51],\n",
       "       [ 37, 101],\n",
       "       [ 38,  62],\n",
       "       [ 32, 113],\n",
       "       [ 32, 146],\n",
       "       [ 20,  18],\n",
       "       [ 27, 129],\n",
       "       [ 39, 113],\n",
       "       [ 25,  30],\n",
       "       [ 26, 128],\n",
       "       [ 27, 116],\n",
       "       [ 28,  30],\n",
       "       [ 26,  81],\n",
       "       [ 25, 149],\n",
       "       [ 26, 117],\n",
       "       [ 27,  23],\n",
       "       [ 28,  42],\n",
       "       [ 25,  80],\n",
       "       [ 27,  57],\n",
       "       [ 28, 136],\n",
       "       [ 29,  17],\n",
       "       [ 24, 105],\n",
       "       [ 23,  21],\n",
       "       [ 29, 128],\n",
       "       [ 29,  80],\n",
       "       [ 29,  97],\n",
       "       [ 29,  29],\n",
       "       [ 23, 108],\n",
       "       [ 23, 120],\n",
       "       [ 23, 142],\n",
       "       [ 23,  31],\n",
       "       [ 23, 124],\n",
       "       [ 23,  66],\n",
       "       [ 23,  48],\n",
       "       [ 23, 141],\n",
       "       [ 33, 113],\n",
       "       [ 43,  80],\n",
       "       [ 42, 136],\n",
       "       [ 45,  53],\n",
       "       [ 46, 103],\n",
       "       [ 47,  19],\n",
       "       [ 45, 122],\n",
       "       [ 34, 131],\n",
       "       [ 43,  51],\n",
       "       [ 34,  27],\n",
       "       [ 43,  46],\n",
       "       [ 45,  34],\n",
       "       [ 54, 115],\n",
       "       [ 45, 110],\n",
       "       [ 54, 118],\n",
       "       [ 56,  91],\n",
       "       [ 45,  20],\n",
       "       [ 34,  79],\n",
       "       [ 43,  80],\n",
       "       [ 34, 128],\n",
       "       [ 43, 106],\n",
       "       [ 34, 146],\n",
       "       [ 43,  43],\n",
       "       [ 43,  48],\n",
       "       [ 43, 117],\n",
       "       [ 43,  79],\n",
       "       [ 43,  52],\n",
       "       [ 43,  17],\n",
       "       [ 43,  86],\n",
       "       [ 43,  57],\n",
       "       [ 43,  88],\n",
       "       [ 43,  19],\n",
       "       [ 23,  67],\n",
       "       [ 23, 119],\n",
       "       [ 23,  36],\n",
       "       [ 23,  41],\n",
       "       [ 23, 120],\n",
       "       [ 23,  58],\n",
       "       [ 23,  72],\n",
       "       [ 23, 102],\n",
       "       [ 23,  23],\n",
       "       [ 32, 100],\n",
       "       [ 23,  51],\n",
       "       [ 32,  49],\n",
       "       [ 32, 144],\n",
       "       [ 23, 104],\n",
       "       [ 23,  31],\n",
       "       [ 23, 103],\n",
       "       [ 48,  21],\n",
       "       [ 48,  69],\n",
       "       [ 47,  55],\n",
       "       [ 47, 115],\n",
       "       [ 46, 146],\n",
       "       [ 46,  41],\n",
       "       [ 46,  37],\n",
       "       [ 46, 103],\n",
       "       [ 47,  80],\n",
       "       [ 48,  72],\n",
       "       [ 44, 112],\n",
       "       [ 23,  47],\n",
       "       [ 32,  34],\n",
       "       [ 33, 122],\n",
       "       [ 45,  13],\n",
       "       [ 45,  58],\n",
       "       [ 45,  54],\n",
       "       [ 45,  86],\n",
       "       [ 45, 104],\n",
       "       [ 45,  68],\n",
       "       [ 45, 112],\n",
       "       [ 45,  29],\n",
       "       [ 29,  27],\n",
       "       [ 18, 143],\n",
       "       [ 27,  18],\n",
       "       [ 26,  32],\n",
       "       [ 25, 144],\n",
       "       [ 24, 132],\n",
       "       [ 25, 109],\n",
       "       [ 23, 148],\n",
       "       [ 25, 107],\n",
       "       [ 26,  76],\n",
       "       [ 27, 136],\n",
       "       [ 28,  26],\n",
       "       [ 29,  71],\n",
       "       [ 20, 112],\n",
       "       [ 29,  73],\n",
       "       [ 28, 108],\n",
       "       [ 27, 143],\n",
       "       [ 26,  38],\n",
       "       [ 25,  93],\n",
       "       [ 24,   9],\n",
       "       [ 21,  80],\n",
       "       [ 23, 144],\n",
       "       [ 24, 115],\n",
       "       [ 25,  66],\n",
       "       [ 26, 142],\n",
       "       [ 28,  82],\n",
       "       [ 28, 144]], dtype=int64)"
      ]
     },
     "execution_count": 107,
     "metadata": {},
     "output_type": "execute_result"
    }
   ],
   "source": [
    "X1"
   ]
  },
  {
   "cell_type": "code",
   "execution_count": 108,
   "metadata": {},
   "outputs": [
    {
     "name": "stderr",
     "output_type": "stream",
     "text": [
      "C:\\Users\\prasa\\anaconda3\\lib\\site-packages\\sklearn\\cluster\\_kmeans.py:881: UserWarning: KMeans is known to have a memory leak on Windows with MKL, when there are less chunks than available threads. You can avoid it by setting the environment variable OMP_NUM_THREADS=1.\n",
      "  warnings.warn(\n"
     ]
    },
    {
     "data": {
      "image/png": "[encoded data removed]",
      "text/plain": [
       "<Figure size 432x288 with 1 Axes>"
      ]
     },
     "metadata": {
      "needs_background": "light"
     },
     "output_type": "display_data"
    }
   ],
   "source": [
    "from sklearn.cluster import KMeans\n",
    "wcss1=[]\n",
    "\n",
    "for i in range(1,11):\n",
    "    kmeans=KMeans(n_clusters=i, init='k-means++',  random_state=21)\n",
    "    kmeans.fit(X1)\n",
    "    wcss1.append(kmeans.inertia_)\n",
    "    \n",
    "plt.plot(range(1,11),wcss1)\n",
    "plt.title('elbow method')\n",
    "plt.xlabel('No of clusters')\n",
    "plt.ylabel('WCSS')\n",
    "plt.show()"
   ]
  },
  {
   "cell_type": "code",
   "execution_count": 109,
   "metadata": {},
   "outputs": [],
   "source": [
    "kmeans=KMeans(n_clusters=4, init='k-means++',  random_state=42)\n",
    "y1=kmeans.fit_predict(X1)"
   ]
  },
  {
   "cell_type": "code",
   "execution_count": 110,
   "metadata": {},
   "outputs": [
    {
     "data": {
      "text/plain": [
       "array([3, 1, 2, 2, 1, 2, 1, 3, 1, 0, 3, 0, 2, 0, 2, 2, 3, 3, 0, 2, 2, 2,\n",
       "       0, 1, 0, 2, 2, 3, 3, 0, 0, 1, 0, 0, 3, 3, 3, 0, 1, 3, 2, 2, 3, 0,\n",
       "       0, 0, 0, 3, 0, 0, 0, 2, 2, 0, 0, 1, 0, 2, 2, 1, 1, 3, 2, 2, 2, 3,\n",
       "       3, 1, 0, 0, 0, 1, 0, 1, 3, 2, 3, 1, 2, 3, 1, 2, 0, 3, 1, 2, 2, 0,\n",
       "       0, 3, 2, 1, 2, 3, 0, 1, 2, 1, 1, 3, 2, 3, 0, 0, 3, 1, 0, 3, 0, 1,\n",
       "       2, 1, 3, 0, 2, 0, 2, 1, 1, 1, 1, 2, 0, 0, 3, 1, 3, 2, 0, 1, 0, 0,\n",
       "       2, 0, 0, 1, 2, 0, 1, 2, 2, 1, 0, 0, 1, 2, 1, 0, 0, 3, 1, 2, 1, 2,\n",
       "       0, 0, 1, 3, 2, 2, 1, 0, 0, 1, 0, 2, 1, 2, 0, 0, 0, 1, 0, 1, 2, 2,\n",
       "       3, 2, 2, 3, 3, 1, 3, 1, 0, 3, 2, 0, 1, 0, 1, 3, 2, 1, 2, 0, 3, 1,\n",
       "       0, 3, 0, 3])"
      ]
     },
     "execution_count": 110,
     "metadata": {},
     "output_type": "execute_result"
    }
   ],
   "source": [
    "y1"
   ]
  },
  {
   "cell_type": "code",
   "execution_count": 111,
   "metadata": {},
   "outputs": [
    {
     "data": {
      "image/png": "[encoded data removed]",
      "text/plain": [
       "<Figure size 432x288 with 1 Axes>"
      ]
     },
     "metadata": {
      "needs_background": "light"
     },
     "output_type": "display_data"
    }
   ],
   "source": [
    "plt.scatter(X1[y1==0,0],X1[y1==0,1], s=100, c='red', label='Cluster1')\n",
    "plt.scatter(X1[y1==1,0],X1[y1==1,1], s=100, c='blue', label='Cluster2')\n",
    "plt.scatter(X1[y1==2,0],X1[y1==2,1], s=100, c='yellow', label='Cluster3')\n",
    "plt.scatter(X1[y1==3,0],X1[y1==3,1], s=100, c='green', label='Cluster4')\n",
    "#plt.scatter(kmeans.cluster_centers_[:0], kmeans.cluster_centers_[:1], s=100, c='black', label='Centroids')\n",
    "plt.scatter(kmeans.cluster_centers_[:, 0], kmeans.cluster_centers_[:, 1], s=100, c='black', label='Centroids')\n",
    "\n",
    "plt.title('Cluster of amazon users')\n",
    "plt.xlabel('Age')\n",
    "plt.ylabel('Purchase rating')\n",
    "plt.legend()\n",
    "plt.show()"
   ]
  },
  {
   "cell_type": "markdown",
   "metadata": {},
   "source": [
    "Age = (20-30)\n",
    "\n",
    "1)Around 20 % of the people from age bracket (20-30) have very high tendency to buy\n",
    "\n",
    "2) Around 25% have high tendency to buy \n",
    "\n",
    "3) Around 30% have medium tendency to buy\n",
    "\n",
    "4) Around 25% have low tendency to buy"
   ]
  },
  {
   "cell_type": "markdown",
   "metadata": {},
   "source": [
    "Most of the customes aged 40-50 have a medium to low tendency to buy"
   ]
  },
  {
   "cell_type": "code",
   "execution_count": null,
   "metadata": {},
   "outputs": [],
   "source": []
  },
  {
   "cell_type": "code",
   "execution_count": 99,
   "metadata": {},
   "outputs": [],
   "source": []
  },
  {
   "cell_type": "code",
   "execution_count": null,
   "metadata": {},
   "outputs": [],
   "source": []
  },
  {
   "cell_type": "code",
   "execution_count": null,
   "metadata": {},
   "outputs": [],
   "source": []
  }
 ],
 "metadata": {
  "colab": {
   "authorship_tag": "ABX9TyMojhScvfhNEf0PB0SFUBgo",
   "name": "Data Preprocessing Template.ipynb",
   "provenance": [],
   "toc_visible": true
  },
  "kernelspec": {
   "display_name": "Python 3 (ipykernel)",
   "language": "python",
   "name": "python3"
  },
  "language_info": {
   "codemirror_mode": {
    "name": "ipython",
    "version": 3
   },
   "file_extension": ".py",
   "mimetype": "text/x-python",
   "name": "python",
   "nbconvert_exporter": "python",
   "pygments_lexer": "ipython3",
   "version": "3.9.7"
  }
 },
 "nbformat": 4,
 "nbformat_minor": 1
}
